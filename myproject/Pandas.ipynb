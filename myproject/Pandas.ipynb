{
 "cells": [
  {
   "cell_type": "code",
   "execution_count": 278,
   "metadata": {},
   "outputs": [],
   "source": [
    "import pandas as pd\n",
    "import os\n",
    "import matplotlib.pyplot as plt\n",
    "import csv"
   ]
  },
  {
   "cell_type": "markdown",
   "metadata": {},
   "source": [
    "### Wczytanie pliku i konwersja"
   ]
  },
  {
   "cell_type": "code",
   "execution_count": 287,
   "metadata": {},
   "outputs": [],
   "source": [
    "def prepare_data(file_dir,lista):\n",
    "    df = pd.read_csv(file_dir)\n",
    "    #ista = [str,float,str,str,str,float,int,'date',bool]\n",
    "    for column,types in zip(df,lista):\n",
    "        try:\n",
    "            if types == 'date':\n",
    "                 df[column] = pd.to_datetime(df[column])\n",
    "            else:\n",
    "                df[column] = df[column].astype(types)\n",
    "                print(type(df[column]))\n",
    "        except ValueError:\n",
    "            print(f'oj, coś się zjebało przy kolumnie {column}')\n",
    "            df[column] = df[column].astype(str)\n",
    "    return df\n",
    "        "
   ]
  },
  {
   "cell_type": "code",
   "execution_count": 176,
   "metadata": {},
   "outputs": [],
   "source": [
    "#df = pd.read_csv('///home/makbet/Pulpit/hahaha/cars2.csv', sep = ';')"
   ]
  },
  {
   "cell_type": "code",
   "execution_count": 108,
   "metadata": {},
   "outputs": [],
   "source": [
    "#df2 = pd.read_csv('///home/makbet/Pulpit/hahaha/dataset_Facebook.csv', sep = ';')"
   ]
  },
  {
   "cell_type": "markdown",
   "metadata": {},
   "source": [
    "### Konwersja danych"
   ]
  },
  {
   "cell_type": "code",
   "execution_count": 177,
   "metadata": {},
   "outputs": [
    {
     "name": "stdout",
     "output_type": "stream",
     "text": [
      "<class 'pandas.core.series.Series'>\n",
      "oj, coś się zjebało przy kolumnie marka\n",
      "<class 'pandas.core.series.Series'>\n",
      "<class 'pandas.core.series.Series'>\n",
      "<class 'pandas.core.series.Series'>\n",
      "<class 'pandas.core.series.Series'>\n",
      "<class 'pandas.core.series.Series'>\n",
      "<class 'pandas.core.series.Series'>\n"
     ]
    }
   ],
   "source": [
    "lista = [str,float,str,str,str,float,int,'date',bool]\n",
    "for column,types in zip(df,lista):\n",
    "        try:\n",
    "            if types == 'date':\n",
    "                 df[column] = pd.to_datetime(df[column])\n",
    "            else:\n",
    "                df[column] = df[column].astype(types)\n",
    "                print(type(df[column]))\n",
    "        except ValueError:\n",
    "            print(f'oj, coś się zjebało przy kolumnie {column}')\n",
    "            df[column] = df[column].astype(str)"
   ]
  },
  {
   "cell_type": "markdown",
   "metadata": {},
   "source": [
    "## Histogram"
   ]
  },
  {
   "cell_type": "code",
   "execution_count": 295,
   "metadata": {},
   "outputs": [
    {
     "data": {
      "image/png": "[encoded data removed]",
      "text/plain": [
       "<Figure size 432x288 with 1 Axes>"
      ]
     },
     "metadata": {
      "needs_background": "light"
     },
     "output_type": "display_data"
    }
   ],
   "source": [
    "def histogram(x):\n",
    "    fig = plt.hist(df[x],bins = 30)\n",
    "    plt.title(x)\n",
    "    plt.xlabel(\"Value\")\n",
    "    plt.ylabel(\"Frequency\")\n",
    "    return plt.savefig(x+'.png')\n",
    "histogram('cena')"
   ]
  },
  {
   "cell_type": "markdown",
   "metadata": {},
   "source": [
    "## Statystyki"
   ]
  },
  {
   "cell_type": "markdown",
   "metadata": {},
   "source": [
    "### Dane liczbowe"
   ]
  },
  {
   "cell_type": "code",
   "execution_count": 288,
   "metadata": {},
   "outputs": [
    {
     "data": {
      "text/html": [
       "<div>\n",
       "<style scoped>\n",
       "    .dataframe tbody tr th:only-of-type {\n",
       "        vertical-align: middle;\n",
       "    }\n",
       "\n",
       "    .dataframe tbody tr th {\n",
       "        vertical-align: top;\n",
       "    }\n",
       "\n",
       "    .dataframe thead th {\n",
       "        text-align: right;\n",
       "    }\n",
       "</style>\n",
       "<table border=\"1\" class=\"dataframe\">\n",
       "  <thead>\n",
       "    <tr style=\"text-align: right;\">\n",
       "      <th></th>\n",
       "      <th>Page total likes</th>\n",
       "      <th>Post Month</th>\n",
       "      <th>Post Weekday</th>\n",
       "      <th>Post Hour</th>\n",
       "      <th>Paid</th>\n",
       "      <th>Lifetime Post Total Reach</th>\n",
       "      <th>Lifetime Post Total Impressions</th>\n",
       "      <th>Lifetime Engaged Users</th>\n",
       "      <th>Lifetime Post Consumers</th>\n",
       "      <th>Lifetime Post Consumptions</th>\n",
       "      <th>Lifetime Post Impressions by people who have liked your Page</th>\n",
       "      <th>Lifetime Post reach by people who like your Page</th>\n",
       "      <th>Lifetime People who have liked your Page and engaged with your post</th>\n",
       "      <th>comment</th>\n",
       "      <th>like</th>\n",
       "      <th>share</th>\n",
       "      <th>Total Interactions</th>\n",
       "    </tr>\n",
       "  </thead>\n",
       "  <tbody>\n",
       "    <tr>\n",
       "      <td>min</td>\n",
       "      <td>81370.000000</td>\n",
       "      <td>1.000000</td>\n",
       "      <td>1.000000</td>\n",
       "      <td>1.000000</td>\n",
       "      <td>0.000000</td>\n",
       "      <td>238.00000</td>\n",
       "      <td>5.700000e+02</td>\n",
       "      <td>9.000000</td>\n",
       "      <td>9.000000</td>\n",
       "      <td>9.000000</td>\n",
       "      <td>5.670000e+02</td>\n",
       "      <td>236.000000</td>\n",
       "      <td>9.000000</td>\n",
       "      <td>0.00000</td>\n",
       "      <td>0.000000</td>\n",
       "      <td>0.000000</td>\n",
       "      <td>0.000000</td>\n",
       "    </tr>\n",
       "    <tr>\n",
       "      <td>mean</td>\n",
       "      <td>123194.176000</td>\n",
       "      <td>7.038000</td>\n",
       "      <td>4.150000</td>\n",
       "      <td>7.840000</td>\n",
       "      <td>0.278557</td>\n",
       "      <td>13903.36000</td>\n",
       "      <td>2.958595e+04</td>\n",
       "      <td>920.344000</td>\n",
       "      <td>798.772000</td>\n",
       "      <td>1415.130000</td>\n",
       "      <td>1.676638e+04</td>\n",
       "      <td>6585.488000</td>\n",
       "      <td>609.986000</td>\n",
       "      <td>7.48200</td>\n",
       "      <td>177.945892</td>\n",
       "      <td>27.266129</td>\n",
       "      <td>212.120000</td>\n",
       "    </tr>\n",
       "    <tr>\n",
       "      <td>max</td>\n",
       "      <td>139441.000000</td>\n",
       "      <td>12.000000</td>\n",
       "      <td>7.000000</td>\n",
       "      <td>23.000000</td>\n",
       "      <td>1.000000</td>\n",
       "      <td>180480.00000</td>\n",
       "      <td>1.110282e+06</td>\n",
       "      <td>11452.000000</td>\n",
       "      <td>11328.000000</td>\n",
       "      <td>19779.000000</td>\n",
       "      <td>1.107833e+06</td>\n",
       "      <td>51456.000000</td>\n",
       "      <td>4376.000000</td>\n",
       "      <td>372.00000</td>\n",
       "      <td>5172.000000</td>\n",
       "      <td>790.000000</td>\n",
       "      <td>6334.000000</td>\n",
       "    </tr>\n",
       "    <tr>\n",
       "      <td>50%</td>\n",
       "      <td>129600.000000</td>\n",
       "      <td>7.000000</td>\n",
       "      <td>4.000000</td>\n",
       "      <td>9.000000</td>\n",
       "      <td>0.000000</td>\n",
       "      <td>5281.00000</td>\n",
       "      <td>9.051000e+03</td>\n",
       "      <td>625.500000</td>\n",
       "      <td>551.500000</td>\n",
       "      <td>851.000000</td>\n",
       "      <td>6.255500e+03</td>\n",
       "      <td>3417.000000</td>\n",
       "      <td>412.000000</td>\n",
       "      <td>3.00000</td>\n",
       "      <td>101.000000</td>\n",
       "      <td>19.000000</td>\n",
       "      <td>123.500000</td>\n",
       "    </tr>\n",
       "    <tr>\n",
       "      <td>std</td>\n",
       "      <td>16272.813214</td>\n",
       "      <td>3.307936</td>\n",
       "      <td>2.030701</td>\n",
       "      <td>4.368589</td>\n",
       "      <td>0.448739</td>\n",
       "      <td>22740.78789</td>\n",
       "      <td>7.680325e+04</td>\n",
       "      <td>985.016636</td>\n",
       "      <td>882.505013</td>\n",
       "      <td>2000.594118</td>\n",
       "      <td>5.979102e+04</td>\n",
       "      <td>7682.009405</td>\n",
       "      <td>612.725618</td>\n",
       "      <td>21.18091</td>\n",
       "      <td>323.398742</td>\n",
       "      <td>42.613292</td>\n",
       "      <td>380.233118</td>\n",
       "    </tr>\n",
       "  </tbody>\n",
       "</table>\n",
       "</div>"
      ],
      "text/plain": [
       "      Page total likes  Post Month  Post Weekday  Post Hour      Paid  \\\n",
       "min       81370.000000    1.000000      1.000000   1.000000  0.000000   \n",
       "mean     123194.176000    7.038000      4.150000   7.840000  0.278557   \n",
       "max      139441.000000   12.000000      7.000000  23.000000  1.000000   \n",
       "50%      129600.000000    7.000000      4.000000   9.000000  0.000000   \n",
       "std       16272.813214    3.307936      2.030701   4.368589  0.448739   \n",
       "\n",
       "      Lifetime Post Total Reach  Lifetime Post Total Impressions  \\\n",
       "min                   238.00000                     5.700000e+02   \n",
       "mean                13903.36000                     2.958595e+04   \n",
       "max                180480.00000                     1.110282e+06   \n",
       "50%                  5281.00000                     9.051000e+03   \n",
       "std                 22740.78789                     7.680325e+04   \n",
       "\n",
       "      Lifetime Engaged Users  Lifetime Post Consumers  \\\n",
       "min                 9.000000                 9.000000   \n",
       "mean              920.344000               798.772000   \n",
       "max             11452.000000             11328.000000   \n",
       "50%               625.500000               551.500000   \n",
       "std               985.016636               882.505013   \n",
       "\n",
       "      Lifetime Post Consumptions  \\\n",
       "min                     9.000000   \n",
       "mean                 1415.130000   \n",
       "max                 19779.000000   \n",
       "50%                   851.000000   \n",
       "std                  2000.594118   \n",
       "\n",
       "      Lifetime Post Impressions by people who have liked your Page  \\\n",
       "min                                        5.670000e+02              \n",
       "mean                                       1.676638e+04              \n",
       "max                                        1.107833e+06              \n",
       "50%                                        6.255500e+03              \n",
       "std                                        5.979102e+04              \n",
       "\n",
       "      Lifetime Post reach by people who like your Page  \\\n",
       "min                                         236.000000   \n",
       "mean                                       6585.488000   \n",
       "max                                       51456.000000   \n",
       "50%                                        3417.000000   \n",
       "std                                        7682.009405   \n",
       "\n",
       "      Lifetime People who have liked your Page and engaged with your post  \\\n",
       "min                                            9.000000                     \n",
       "mean                                         609.986000                     \n",
       "max                                         4376.000000                     \n",
       "50%                                          412.000000                     \n",
       "std                                          612.725618                     \n",
       "\n",
       "        comment         like       share  Total Interactions  \n",
       "min     0.00000     0.000000    0.000000            0.000000  \n",
       "mean    7.48200   177.945892   27.266129          212.120000  \n",
       "max   372.00000  5172.000000  790.000000         6334.000000  \n",
       "50%     3.00000   101.000000   19.000000          123.500000  \n",
       "std    21.18091   323.398742   42.613292          380.233118  "
      ]
     },
     "execution_count": 288,
     "metadata": {},
     "output_type": "execute_result"
    }
   ],
   "source": [
    "df2.describe().loc[['min','mean','max','50%','std']] #Dane statystyczne"
   ]
  },
  {
   "cell_type": "code",
   "execution_count": 284,
   "metadata": {},
   "outputs": [
    {
     "data": {
      "text/plain": [
       "'cena;float64;8900.0;35022.61538461538;142000.0;22000.0;34625.03471367324;adres histogramu'"
      ]
     },
     "execution_count": 284,
     "metadata": {},
     "output_type": "execute_result"
    },
    {
     "data": {
      "image/png": "[encoded data removed]",
      "text/plain": [
       "<Figure size 432x288 with 1 Axes>"
      ]
     },
     "metadata": {
      "needs_background": "light"
     },
     "output_type": "display_data"
    }
   ],
   "source": [
    "def get_nums(x):\n",
    "    desc = df[x].describe().loc[['min','mean','max','50%','std']]\n",
    "    types = df[x].dtypes\n",
    "    histogram(x)\n",
    "    return f'{x};{types};{desc[0]};{desc[1]};{desc[2]};{desc[3]};{desc[4]};{\"adres histogramu\"}'\n",
    "get_nums('cena')"
   ]
  },
  {
   "cell_type": "markdown",
   "metadata": {},
   "source": [
    "### Dane obiektowe"
   ]
  },
  {
   "cell_type": "code",
   "execution_count": 129,
   "metadata": {},
   "outputs": [
    {
     "data": {
      "text/plain": [
       "4"
      ]
     },
     "execution_count": 129,
     "metadata": {},
     "output_type": "execute_result"
    }
   ],
   "source": [
    "df['marka'].nunique() #liczba unikalnych wartości"
   ]
  },
  {
   "cell_type": "code",
   "execution_count": 289,
   "metadata": {},
   "outputs": [
    {
     "data": {
      "text/plain": [
       "0"
      ]
     },
     "execution_count": 289,
     "metadata": {},
     "output_type": "execute_result"
    }
   ],
   "source": [
    "df2['Type'].isnull().sum() #liczba nulli"
   ]
  },
  {
   "cell_type": "code",
   "execution_count": 290,
   "metadata": {},
   "outputs": [
    {
     "data": {
      "text/plain": [
       "'marka;object;10;0;adres histogramu'"
      ]
     },
     "execution_count": 290,
     "metadata": {},
     "output_type": "execute_result"
    },
    {
     "data": {
      "image/png": "[encoded data removed]",
      "text/plain": [
       "<Figure size 432x288 with 1 Axes>"
      ]
     },
     "metadata": {
      "needs_background": "light"
     },
     "output_type": "display_data"
    }
   ],
   "source": [
    "def get_object(x):\n",
    "    nulls = df[x].isnull().sum()\n",
    "    types = df[x].dtypes\n",
    "    uniques = df[x].nunique()\n",
    "    histogram(x)\n",
    "    return f'{x};{types};{uniques};{nulls};{\"adres histogramu\"}'\n",
    "get_object('marka')"
   ]
  },
  {
   "cell_type": "markdown",
   "metadata": {},
   "source": [
    "### Dane kategorialne"
   ]
  },
  {
   "cell_type": "code",
   "execution_count": 291,
   "metadata": {},
   "outputs": [
    {
     "data": {
      "text/plain": [
       "CategoricalDtype(categories=[1.0, 2.0, 3.0], ordered=False)"
      ]
     },
     "execution_count": 291,
     "metadata": {},
     "output_type": "execute_result"
    }
   ],
   "source": [
    "df2['Category'].nunique()\n",
    "df2['Category'].dtypes"
   ]
  },
  {
   "cell_type": "code",
   "execution_count": 293,
   "metadata": {},
   "outputs": [],
   "source": [
    "def get_cat(x):\n",
    "    uniques = df[x].nunique()\n",
    "    types = df[x].dtypes\n",
    "    histogram(x)\n",
    "    return f'{x};{types};{uniques};{\"adres histogramu\"}'"
   ]
  },
  {
   "cell_type": "markdown",
   "metadata": {},
   "source": [
    "### Dane bool"
   ]
  },
  {
   "cell_type": "code",
   "execution_count": 303,
   "metadata": {},
   "outputs": [
    {
     "data": {
      "text/plain": [
       "'Dane;bool;adres histogramu'"
      ]
     },
     "execution_count": 303,
     "metadata": {},
     "output_type": "execute_result"
    },
    {
     "data": {
      "image/png": "[encoded data removed]",
      "text/plain": [
       "<Figure size 432x288 with 1 Axes>"
      ]
     },
     "metadata": {
      "needs_background": "light"
     },
     "output_type": "display_data"
    }
   ],
   "source": [
    "def get_bool(x):\n",
    "    uniques = df[x].nunique()\n",
    "    types = df[x].dtypes\n",
    "    fig = plt.hist((df[x].astype(float)),bins = 30)\n",
    "    plt.title(x)\n",
    "    plt.xlabel(\"Value\")\n",
    "    plt.ylabel(\"Frequency\")\n",
    "    plt.savefig(x+'.png')\n",
    "    return f'{x};{types};{\"adres histogramu\"}'\n",
    "get_bool('Dane')"
   ]
  },
  {
   "cell_type": "markdown",
   "metadata": {},
   "source": [
    "### Dane date"
   ]
  },
  {
   "cell_type": "code",
   "execution_count": 282,
   "metadata": {},
   "outputs": [],
   "source": [
    "def get_date(x):\n",
    "    types = df[x].dtypes\n",
    "    mini = df[x].min()\n",
    "    maxi = df[x].max()\n",
    "    return f'{x};{types};{mini};{maxi}'"
   ]
  },
  {
   "cell_type": "markdown",
   "metadata": {},
   "source": [
    "### Załadowanie metadanych do bazy danych"
   ]
  },
  {
   "cell_type": "markdown",
   "metadata": {},
   "source": [
    "### Zapisanie do pliku"
   ]
  },
  {
   "cell_type": "code",
   "execution_count": 304,
   "metadata": {},
   "outputs": [
    {
     "data": {
      "image/png": "[encoded data removed]",
      "text/plain": [
       "<Figure size 432x288 with 1 Axes>"
      ]
     },
     "metadata": {
      "needs_background": "light"
     },
     "output_type": "display_data"
    }
   ],
   "source": [
    "with open('podsumowanie.csv', 'w', newline='') as csvfile:\n",
    "    datawriter = csv.writer(csvfile, delimiter=' ',\n",
    "                            quotechar='|', quoting=csv.QUOTE_MINIMAL)\n",
    "    for column in df:\n",
    "        if df[column].dtypes == 'object':\n",
    "            datawriter.writerow([get_object(column)])\n",
    "        elif df[column].dtypes == 'bool':\n",
    "            datawriter.writerow([get_bool(column)])\n",
    "        elif df[column].dtype.name == 'category':\n",
    "            datawriter.writerow([get_category(column)])\n",
    "        elif df[column].dtypes == 'float64' or df[column].dtypes == 'int64':\n",
    "            datawriter.writerow([get_nums(column)])\n",
    "        elif df[column].dtypes == 'datetime64[ns]':\n",
    "            datawriter.writerow([get_date(column)])"
   ]
  },
  {
   "cell_type": "code",
   "execution_count": null,
   "metadata": {},
   "outputs": [],
   "source": []
  }
 ],
 "metadata": {
  "kernelspec": {
   "display_name": "Python 3",
   "language": "python",
   "name": "python3"
  },
  "language_info": {
   "codemirror_mode": {
    "name": "ipython",
    "version": 3
   },
   "file_extension": ".py",
   "mimetype": "text/x-python",
   "name": "python",
   "nbconvert_exporter": "python",
   "pygments_lexer": "ipython3",
   "version": "3.7.4"
  }
 },
 "nbformat": 4,
 "nbformat_minor": 2
}
